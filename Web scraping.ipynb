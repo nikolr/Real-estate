{
 "cells": [
  {
   "cell_type": "markdown",
   "id": "4df1ba6b",
   "metadata": {},
   "source": [
    "# Web scraper"
   ]
  },
  {
   "cell_type": "markdown",
   "id": "987809c2",
   "metadata": {},
   "source": [
    "Imports"
   ]
  },
  {
   "cell_type": "code",
   "execution_count": 1,
   "id": "bafb70d1",
   "metadata": {},
   "outputs": [],
   "source": [
    "import requests\n",
    "from bs4 import BeautifulSoup\n",
    "from selenium import webdriver\n",
    "import time\n",
    "import numpy as np\n",
    "import pandas as pd\n",
    "from re import search\n",
    "from re import match\n",
    "import sys\n",
    "from IPython.display import display"
   ]
  },
  {
   "cell_type": "markdown",
   "id": "c1397928",
   "metadata": {},
   "source": [
    "Define the search query and create the driver"
   ]
  },
  {
   "cell_type": "code",
   "execution_count": 2,
   "id": "cf98cbc2",
   "metadata": {},
   "outputs": [],
   "source": [
    "#Omistusasunnot Porvoossa sivulla asunnot.oikotie.fi\n",
    "search_query = 'https://asunnot.oikotie.fi/myytavat-asunnot/porvoo?pagination=1&locations=%5B%5B319,6,%22Porvoo%22%5D%5D&cardType=100&habitationType%5B%5D=1'\n",
    "driver = webdriver.Chrome(executable_path='C:\\Program Files (x86)\\Google\\Chrome\\Application/chromedriver.exe')"
   ]
  },
  {
   "cell_type": "markdown",
   "id": "7417e040",
   "metadata": {},
   "source": [
    "Click through a popup and click on the first listings link"
   ]
  },
  {
   "cell_type": "code",
   "execution_count": null,
   "id": "89678ed7",
   "metadata": {},
   "outputs": [],
   "source": [
    "driver.get(search_query)\n",
    "\n",
    "#Odotetaan evästeiden hyväksyntä iframe esiintymistä ja vaihdetaan siihen\n",
    "driver.implicitly_wait(10)\n",
    "driver.switch_to.frame(1)\n",
    "\n",
    "#Hyväksytään ja palataan takaisin \n",
    "driver.find_element_by_xpath(\"//*[@title = 'Hyväksy kaikki evästeet']\").click()\n",
    "driver.switch_to.default_content()\n",
    "driver.implicitly_wait(10)\n",
    "\n",
    "#Etsitään ensimmäisen asunnon linkki ja edetään sen sivulle\n",
    "first_page = driver.find_element_by_xpath(\"//a[contains(@analytics-click-position, '1')]\")\n",
    "first_page.click()\n",
    "driver.implicitly_wait(10)"
   ]
  },
  {
   "cell_type": "markdown",
   "id": "2df4b4c9",
   "metadata": {},
   "source": [
    "Store the number of pages"
   ]
  },
  {
   "cell_type": "code",
   "execution_count": null,
   "id": "e563f7ee",
   "metadata": {},
   "outputs": [],
   "source": [
    "#Etsitään sivulta kaikkien asuntojen määrä ja otetaan se talteen\n",
    "pages_element = driver.find_element_by_xpath(\"/html/body/main/div[5]/div/div[2]/div[2]/result-browse/div/span\").get_attribute(\"innerHTML\")\n",
    "pages = int(pages_element.replace('1 /', ''))\n",
    "driver.implicitly_wait(10)"
   ]
  },
  {
   "cell_type": "markdown",
   "id": "5f1b3222",
   "metadata": {},
   "source": [
    "Loop through all of the pages and store data of interest into lists"
   ]
  },
  {
   "cell_type": "code",
   "execution_count": null,
   "id": "9caa9988",
   "metadata": {},
   "outputs": [],
   "source": [
    "#Sijoitetaan tänne kaikki dict muotoiset listaukset. Luodaan tästä lopulta dataframe\n",
    "listings = []\n",
    "\n",
    "for i in range(pages):\n",
    "    try:\n",
    "        #Määritellään listat, joihin sijoitetaan löydetyt tiedot\n",
    "        descriptions = driver.find_elements_by_xpath(\"//p[contains(@class, 'paragraph paragraph--keep-formatting')]\")\n",
    "        titles = driver.find_elements_by_xpath(\"//dt[contains(@class, 'info-table__title')]\")\n",
    "        values = driver.find_elements_by_xpath(\"//dd[contains(@class, 'info-table__value')]\")\n",
    "\n",
    "        #Alustetaan listat\n",
    "        desc_list = []\n",
    "        title_list = []\n",
    "        value_list = []\n",
    "        \n",
    "        #Käydään läpi kuvaukset ja yhdistetään kappaleet\n",
    "        for desc in descriptions:\n",
    "            desc_list.append(desc.get_attribute('innerHTML'))\n",
    "            description = ' '.join(desc_list)\n",
    "        #Otetaan talteen dataframe sarakkeiden nimet listaan\n",
    "        for title in titles:\n",
    "            title_list.append(title.get_attribute('innerHTML'))\n",
    "        #Otetaan talteen dataframe sarakkeiden arvot listaan\n",
    "        #Kohta \"Tarkista uuden tai nykyisen kotisi kotivakuutuksen hinta ja ehdot\" ei sisällä otsikkoa, joten jätetään se pois\n",
    "        for value in values:\n",
    "            if not search(\"Tarkista uuden tai nykyisen kotisi kotivakuutuksen hinta ja ehdot\", value.get_attribute('innerHTML')):\n",
    "                value_list.append(value.get_attribute('innerHTML'))\n",
    "        #Luodaan sanakirja, joka edustaa yksittäis asunto oliota        \n",
    "        zip_iter = zip(title_list, value_list)\n",
    "        listing = dict(zip_iter)\n",
    "        #Lisätään kuvaus sarake ja listään kuvaukset siihen\n",
    "        listing['Kuvaus'] = description\n",
    "        listings.append(listing)\n",
    "        #Jos kyseessä on viimeinen sivu, niin lopetetaan loop\n",
    "        if i == pages - 1:\n",
    "            break\n",
    "        driver.find_element_by_xpath(\"//a[contains(@analytics-click-label, 'next')]\").click()\n",
    "    except Exception as e:\n",
    "        print(e.__class__)\n",
    "        driver.quit()\n",
    "        sys.exit()"
   ]
  },
  {
   "cell_type": "markdown",
   "id": "5cea898b",
   "metadata": {},
   "source": [
    "Create the dataframe and make a .csv"
   ]
  },
  {
   "cell_type": "code",
   "execution_count": null,
   "id": "c8ddfb89",
   "metadata": {},
   "outputs": [],
   "source": [
    "df = pd.DataFrame(listings)\n",
    "display(df.head())\n",
    "df.to_csv(\"porvoo_listings22.csv\")\n",
    "driver.quit()"
   ]
  }
 ],
 "metadata": {
  "kernelspec": {
   "display_name": "Python 3 (ipykernel)",
   "language": "python",
   "name": "python3"
  },
  "language_info": {
   "codemirror_mode": {
    "name": "ipython",
    "version": 3
   },
   "file_extension": ".py",
   "mimetype": "text/x-python",
   "name": "python",
   "nbconvert_exporter": "python",
   "pygments_lexer": "ipython3",
   "version": "3.9.7"
  }
 },
 "nbformat": 4,
 "nbformat_minor": 5
}
